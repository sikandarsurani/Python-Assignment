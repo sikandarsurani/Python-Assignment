{
 "cells": [
  {
   "cell_type": "code",
   "execution_count": 1,
   "id": "f4119eca",
   "metadata": {},
   "outputs": [
    {
     "name": "stdout",
     "output_type": "stream",
     "text": [
      "Assignment 1\n"
     ]
    }
   ],
   "source": [
    "print (\"Assignment 1\")"
   ]
  },
  {
   "cell_type": "code",
   "execution_count": 38,
   "id": "b33c33f0",
   "metadata": {},
   "outputs": [
    {
     "name": "stdout",
     "output_type": "stream",
     "text": [
      "Q1:\n"
     ]
    }
   ],
   "source": [
    "print (\"Q1:\")"
   ]
  },
  {
   "cell_type": "code",
   "execution_count": 33,
   "id": "4ab6d272",
   "metadata": {},
   "outputs": [
    {
     "name": "stdout",
     "output_type": "stream",
     "text": [
      "Q1:\n",
      "\n",
      "Twinkle, Twinkle, little star,\n",
      "\tHow I wonder what you are!\n",
      "\t\tUp above the world so high,\n",
      "\t\tLike a diamond in the sky.\n",
      "Twinkle, Twinkle, little star,\n",
      "\tHow I wonder what you are!\n",
      "\n"
     ]
    }
   ],
   "source": [
    "\n",
    "print (\"\"\"\n",
    "Twinkle, Twinkle, little star,\n",
    "\\tHow I wonder what you are!\n",
    "\\t\\tUp above the world so high,\n",
    "\\t\\tLike a diamond in the sky.\n",
    "Twinkle, Twinkle, little star,\n",
    "\\tHow I wonder what you are!\n",
    "\"\"\")"
   ]
  },
  {
   "cell_type": "code",
   "execution_count": 39,
   "id": "208a5f47",
   "metadata": {},
   "outputs": [
    {
     "name": "stdout",
     "output_type": "stream",
     "text": [
      "Q2:\n"
     ]
    }
   ],
   "source": [
    "print (\"Q2:\")"
   ]
  },
  {
   "cell_type": "code",
   "execution_count": 40,
   "id": "fb75ed18",
   "metadata": {},
   "outputs": [
    {
     "name": "stdout",
     "output_type": "stream",
     "text": [
      "Python version\n",
      "3.9.7 (default, Sep 16 2021, 16:59:28) [MSC v.1916 64 bit (AMD64)]\n",
      "sys.version_info(major=3, minor=9, micro=7, releaselevel='final', serial=0)\n"
     ]
    }
   ],
   "source": [
    "import sys\n",
    "print (\"Python version\")\n",
    "print (sys.version)\n",
    "print (sys.version_info)"
   ]
  },
  {
   "cell_type": "code",
   "execution_count": 42,
   "id": "b5bdeb01",
   "metadata": {},
   "outputs": [
    {
     "name": "stdout",
     "output_type": "stream",
     "text": [
      "Q3:\n"
     ]
    }
   ],
   "source": [
    "print (\"Q3:\")"
   ]
  },
  {
   "cell_type": "code",
   "execution_count": 41,
   "id": "cac70bb0",
   "metadata": {},
   "outputs": [
    {
     "name": "stdout",
     "output_type": "stream",
     "text": [
      "Current date and time: 2022-01-01 22:55:43.826931\n"
     ]
    }
   ],
   "source": [
    "import datetime\n",
    "d= datetime.datetime.now()\n",
    "print(\"Current date and time: \" + str(d))"
   ]
  },
  {
   "cell_type": "code",
   "execution_count": 43,
   "id": "0a3ba5cb",
   "metadata": {},
   "outputs": [
    {
     "name": "stdout",
     "output_type": "stream",
     "text": [
      "Q4:\n"
     ]
    }
   ],
   "source": [
    "print (\"Q4:\")"
   ]
  },
  {
   "cell_type": "code",
   "execution_count": 1,
   "id": "2144fae2",
   "metadata": {},
   "outputs": [
    {
     "name": "stdout",
     "output_type": "stream",
     "text": [
      "enter the radius\n",
      "6\n",
      "The area of the circle is:113.09733552923255\n"
     ]
    }
   ],
   "source": [
    "from math import pi\n",
    "print(\"enter the radius\")\n",
    "r= int(input())\n",
    "area= pi * (r **2)\n",
    "print(\"The area of the circle is:\" + str(area))"
   ]
  },
  {
   "cell_type": "code",
   "execution_count": 44,
   "id": "7024465a",
   "metadata": {},
   "outputs": [
    {
     "name": "stdout",
     "output_type": "stream",
     "text": [
      "Q5:\n"
     ]
    }
   ],
   "source": [
    "print (\"Q5:\")"
   ]
  },
  {
   "cell_type": "code",
   "execution_count": 31,
   "id": "95cf1c48",
   "metadata": {},
   "outputs": [
    {
     "name": "stdout",
     "output_type": "stream",
     "text": [
      "Enter your first name\n",
      "Sikandar\n",
      "Enter your last name\n",
      "Surani\n",
      "Reverse: Surani Sikandar\n"
     ]
    }
   ],
   "source": [
    "print (\"Enter your first name\")\n",
    "f=input()\n",
    "print (\"Enter your last name\")\n",
    "l=input()\n",
    "print (\"Reverse: \" + l + \" \" + f)"
   ]
  },
  {
   "cell_type": "code",
   "execution_count": 28,
   "id": "fa607a57",
   "metadata": {},
   "outputs": [
    {
     "name": "stdout",
     "output_type": "stream",
     "text": [
      "Q6\n"
     ]
    }
   ],
   "source": [
    "print (\"Q6\")"
   ]
  },
  {
   "cell_type": "code",
   "execution_count": 2,
   "id": "c7f8096f",
   "metadata": {},
   "outputs": [
    {
     "name": "stdout",
     "output_type": "stream",
     "text": [
      "Enter first number\n",
      "4\n",
      "Enter second number\n",
      "8\n",
      "The sum of numbers is: 12\n"
     ]
    }
   ],
   "source": [
    "print (\"Enter first number\")\n",
    "no1= int(input())\n",
    "print (\"Enter second number\")\n",
    "no2= int(input())\n",
    "sum=no1+no2\n",
    "print (\"The sum of numbers is: \" + str(sum))"
   ]
  },
  {
   "cell_type": "code",
   "execution_count": null,
   "id": "71d1f71b",
   "metadata": {},
   "outputs": [],
   "source": []
  }
 ],
 "metadata": {
  "kernelspec": {
   "display_name": "Python 3 (ipykernel)",
   "language": "python",
   "name": "python3"
  },
  "language_info": {
   "codemirror_mode": {
    "name": "ipython",
    "version": 3
   },
   "file_extension": ".py",
   "mimetype": "text/x-python",
   "name": "python",
   "nbconvert_exporter": "python",
   "pygments_lexer": "ipython3",
   "version": "3.9.7"
  }
 },
 "nbformat": 4,
 "nbformat_minor": 5
}
